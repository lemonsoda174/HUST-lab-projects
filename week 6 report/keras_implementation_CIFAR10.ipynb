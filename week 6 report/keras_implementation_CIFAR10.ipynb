{
 "cells": [
  {
   "cell_type": "code",
   "execution_count": 25,
   "metadata": {
    "id": "_pkCOVR6V6TG"
   },
   "outputs": [],
   "source": [
    "#type: ignore\n",
    "\n",
    "import numpy as np\n",
    "import matplotlib.pyplot as plt\n",
    "from keras.models import Sequential\n",
    "from keras.layers import Dense, Dropout, Activation, Flatten\n",
    "from keras.layers import Conv2D, MaxPooling2D\n",
    "from keras.utils import to_categorical\n",
    "from keras.datasets import cifar10\n",
    "from keras.optimizers import SGD\n",
    "import random, sys"
   ]
  },
  {
   "cell_type": "code",
   "execution_count": 26,
   "metadata": {
    "colab": {
     "base_uri": "https://localhost:8080/"
    },
    "executionInfo": {
     "elapsed": 610,
     "status": "ok",
     "timestamp": 1728449068257,
     "user": {
      "displayName": "Nguyễn Hải Đăng",
      "userId": "16376306749577719261"
     },
     "user_tz": -420
    },
    "id": "QHWCnzH4X8Cc",
    "outputId": "d30a801f-2b9f-4d02-faee-b0a7f1f85491"
   },
   "outputs": [
    {
     "name": "stdout",
     "output_type": "stream",
     "text": [
      "(40000, 32, 32, 3)\n"
     ]
    }
   ],
   "source": [
    "(X_train, y_train), (X_test, y_test) = cifar10.load_data()\n",
    "X_val, y_val = X_train[40000:50000,:], y_train[40000:50000]\n",
    "X_train, y_train = X_train[:40000,:], y_train[:40000]\n",
    "print(X_train.shape)"
   ]
  },
  {
   "cell_type": "code",
   "execution_count": 27,
   "metadata": {
    "colab": {
     "base_uri": "https://localhost:8080/"
    },
    "executionInfo": {
     "elapsed": 5,
     "status": "ok",
     "timestamp": 1728448918983,
     "user": {
      "displayName": "Nguyễn Hải Đăng",
      "userId": "16376306749577719261"
     },
     "user_tz": -420
    },
    "id": "HaVJLSYVZciv",
    "outputId": "3bc8594e-76e9-4d13-b09c-a584ef74af04"
   },
   "outputs": [
    {
     "name": "stdout",
     "output_type": "stream",
     "text": [
      "[6]\n",
      "[0. 0. 0. 0. 0. 0. 1. 0. 0. 0.]\n"
     ]
    }
   ],
   "source": [
    "Y_train = to_categorical(y_train)\n",
    "Y_val = to_categorical(y_val)\n",
    "Y_test = to_categorical(y_test)\n",
    "print(y_train[0]) #initial data\n",
    "print(Y_train[0]) #one hot encoded data"
   ]
  },
  {
   "cell_type": "code",
   "execution_count": 28,
   "metadata": {},
   "outputs": [],
   "source": [
    "# scale pixels\n",
    "# convert from integers to floats\n",
    "train_norm = X_train.astype('float32')\n",
    "test_norm = X_val.astype('float32')\n",
    "# normalize to range 0-1\n",
    "train_norm = train_norm / 255.0\n",
    "test_norm = test_norm / 255.0\n",
    "X_train = train_norm\n",
    "X_val = test_norm"
   ]
  },
  {
   "cell_type": "code",
   "execution_count": null,
   "metadata": {
    "colab": {
     "base_uri": "https://localhost:8080/",
     "height": 445
    },
    "executionInfo": {
     "elapsed": 11648,
     "status": "error",
     "timestamp": 1728448930627,
     "user": {
      "displayName": "Nguyễn Hải Đăng",
      "userId": "16376306749577719261"
     },
     "user_tz": -420
    },
    "id": "uvZO0PPcZqeE",
    "outputId": "a8a6079e-911b-4796-ca8d-4700c402139a"
   },
   "outputs": [
    {
     "name": "stderr",
     "output_type": "stream",
     "text": [
      "C:\\Users\\ADMIN\\AppData\\Local\\Packages\\PythonSoftwareFoundation.Python.3.11_qbz5n2kfra8p0\\LocalCache\\local-packages\\Python311\\site-packages\\keras\\src\\layers\\convolutional\\base_conv.py:107: UserWarning: Do not pass an `input_shape`/`input_dim` argument to a layer. When using Sequential models, prefer using an `Input(shape)` object as the first layer in the model instead.\n",
      "  super().__init__(activity_regularizer=activity_regularizer, **kwargs)\n"
     ]
    },
    {
     "name": "stdout",
     "output_type": "stream",
     "text": [
      "Epoch 1/100\n",
      "\u001b[1m625/625\u001b[0m \u001b[32m━━━━━━━━━━━━━━━━━━━━\u001b[0m\u001b[37m\u001b[0m \u001b[1m23s\u001b[0m 36ms/step - accuracy: 0.2716 - loss: 1.9749 - val_accuracy: 0.4326 - val_loss: 1.5492\n",
      "Epoch 2/100\n",
      "\u001b[1m625/625\u001b[0m \u001b[32m━━━━━━━━━━━━━━━━━━━━\u001b[0m\u001b[37m\u001b[0m \u001b[1m23s\u001b[0m 36ms/step - accuracy: 0.4653 - loss: 1.4764 - val_accuracy: 0.5124 - val_loss: 1.3690\n",
      "Epoch 3/100\n",
      "\u001b[1m625/625\u001b[0m \u001b[32m━━━━━━━━━━━━━━━━━━━━\u001b[0m\u001b[37m\u001b[0m \u001b[1m23s\u001b[0m 36ms/step - accuracy: 0.5330 - loss: 1.3064 - val_accuracy: 0.5662 - val_loss: 1.2319\n",
      "Epoch 4/100\n",
      "\u001b[1m625/625\u001b[0m \u001b[32m━━━━━━━━━━━━━━━━━━━━\u001b[0m\u001b[37m\u001b[0m \u001b[1m23s\u001b[0m 37ms/step - accuracy: 0.5860 - loss: 1.1723 - val_accuracy: 0.5906 - val_loss: 1.1632\n",
      "Epoch 5/100\n",
      "\u001b[1m625/625\u001b[0m \u001b[32m━━━━━━━━━━━━━━━━━━━━\u001b[0m\u001b[37m\u001b[0m \u001b[1m23s\u001b[0m 37ms/step - accuracy: 0.6241 - loss: 1.0556 - val_accuracy: 0.6216 - val_loss: 1.0713\n",
      "Epoch 6/100\n",
      "\u001b[1m625/625\u001b[0m \u001b[32m━━━━━━━━━━━━━━━━━━━━\u001b[0m\u001b[37m\u001b[0m \u001b[1m23s\u001b[0m 37ms/step - accuracy: 0.6534 - loss: 0.9842 - val_accuracy: 0.6419 - val_loss: 1.0290\n",
      "Epoch 7/100\n",
      "\u001b[1m625/625\u001b[0m \u001b[32m━━━━━━━━━━━━━━━━━━━━\u001b[0m\u001b[37m\u001b[0m \u001b[1m22s\u001b[0m 36ms/step - accuracy: 0.6805 - loss: 0.9055 - val_accuracy: 0.6497 - val_loss: 1.0161\n",
      "Epoch 8/100\n",
      "\u001b[1m625/625\u001b[0m \u001b[32m━━━━━━━━━━━━━━━━━━━━\u001b[0m\u001b[37m\u001b[0m \u001b[1m23s\u001b[0m 37ms/step - accuracy: 0.7046 - loss: 0.8391 - val_accuracy: 0.6637 - val_loss: 0.9786\n",
      "Epoch 9/100\n",
      "\u001b[1m625/625\u001b[0m \u001b[32m━━━━━━━━━━━━━━━━━━━━\u001b[0m\u001b[37m\u001b[0m \u001b[1m23s\u001b[0m 37ms/step - accuracy: 0.7242 - loss: 0.7790 - val_accuracy: 0.6651 - val_loss: 0.9894\n",
      "Epoch 10/100\n",
      "\u001b[1m625/625\u001b[0m \u001b[32m━━━━━━━━━━━━━━━━━━━━\u001b[0m\u001b[37m\u001b[0m \u001b[1m23s\u001b[0m 37ms/step - accuracy: 0.7474 - loss: 0.7220 - val_accuracy: 0.6782 - val_loss: 0.9574\n",
      "Epoch 11/100\n",
      "\u001b[1m625/625\u001b[0m \u001b[32m━━━━━━━━━━━━━━━━━━━━\u001b[0m\u001b[37m\u001b[0m \u001b[1m23s\u001b[0m 37ms/step - accuracy: 0.7712 - loss: 0.6536 - val_accuracy: 0.6828 - val_loss: 0.9503\n",
      "Epoch 12/100\n",
      "\u001b[1m625/625\u001b[0m \u001b[32m━━━━━━━━━━━━━━━━━━━━\u001b[0m\u001b[37m\u001b[0m \u001b[1m23s\u001b[0m 37ms/step - accuracy: 0.7899 - loss: 0.5986 - val_accuracy: 0.6867 - val_loss: 0.9475\n",
      "Epoch 13/100\n",
      "\u001b[1m625/625\u001b[0m \u001b[32m━━━━━━━━━━━━━━━━━━━━\u001b[0m\u001b[37m\u001b[0m \u001b[1m23s\u001b[0m 37ms/step - accuracy: 0.8111 - loss: 0.5416 - val_accuracy: 0.6762 - val_loss: 1.0246\n",
      "Epoch 14/100\n",
      "\u001b[1m625/625\u001b[0m \u001b[32m━━━━━━━━━━━━━━━━━━━━\u001b[0m\u001b[37m\u001b[0m \u001b[1m24s\u001b[0m 39ms/step - accuracy: 0.8302 - loss: 0.4880 - val_accuracy: 0.6862 - val_loss: 0.9756\n",
      "Epoch 15/100\n",
      "\u001b[1m625/625\u001b[0m \u001b[32m━━━━━━━━━━━━━━━━━━━━\u001b[0m\u001b[37m\u001b[0m \u001b[1m24s\u001b[0m 38ms/step - accuracy: 0.8458 - loss: 0.4426 - val_accuracy: 0.7027 - val_loss: 0.9779\n",
      "Epoch 16/100\n",
      "\u001b[1m625/625\u001b[0m \u001b[32m━━━━━━━━━━━━━━━━━━━━\u001b[0m\u001b[37m\u001b[0m \u001b[1m23s\u001b[0m 37ms/step - accuracy: 0.8625 - loss: 0.3953 - val_accuracy: 0.6917 - val_loss: 1.0365\n",
      "Epoch 17/100\n",
      "\u001b[1m625/625\u001b[0m \u001b[32m━━━━━━━━━━━━━━━━━━━━\u001b[0m\u001b[37m\u001b[0m \u001b[1m24s\u001b[0m 39ms/step - accuracy: 0.8836 - loss: 0.3424 - val_accuracy: 0.7037 - val_loss: 1.0378\n",
      "Epoch 18/100\n",
      "\u001b[1m625/625\u001b[0m \u001b[32m━━━━━━━━━━━━━━━━━━━━\u001b[0m\u001b[37m\u001b[0m \u001b[1m24s\u001b[0m 39ms/step - accuracy: 0.9007 - loss: 0.2953 - val_accuracy: 0.6959 - val_loss: 1.0923\n",
      "Epoch 19/100\n",
      "\u001b[1m625/625\u001b[0m \u001b[32m━━━━━━━━━━━━━━━━━━━━\u001b[0m\u001b[37m\u001b[0m \u001b[1m23s\u001b[0m 38ms/step - accuracy: 0.9112 - loss: 0.2572 - val_accuracy: 0.6749 - val_loss: 1.2076\n",
      "Epoch 20/100\n",
      "\u001b[1m625/625\u001b[0m \u001b[32m━━━━━━━━━━━━━━━━━━━━\u001b[0m\u001b[37m\u001b[0m \u001b[1m23s\u001b[0m 37ms/step - accuracy: 0.9282 - loss: 0.2170 - val_accuracy: 0.6929 - val_loss: 1.2290\n",
      "Epoch 21/100\n",
      "\u001b[1m625/625\u001b[0m \u001b[32m━━━━━━━━━━━━━━━━━━━━\u001b[0m\u001b[37m\u001b[0m \u001b[1m23s\u001b[0m 37ms/step - accuracy: 0.9391 - loss: 0.1778 - val_accuracy: 0.6928 - val_loss: 1.3090\n",
      "Epoch 22/100\n",
      "\u001b[1m625/625\u001b[0m \u001b[32m━━━━━━━━━━━━━━━━━━━━\u001b[0m\u001b[37m\u001b[0m \u001b[1m24s\u001b[0m 38ms/step - accuracy: 0.9478 - loss: 0.1529 - val_accuracy: 0.7004 - val_loss: 1.3939\n",
      "Epoch 23/100\n",
      "\u001b[1m625/625\u001b[0m \u001b[32m━━━━━━━━━━━━━━━━━━━━\u001b[0m\u001b[37m\u001b[0m \u001b[1m24s\u001b[0m 39ms/step - accuracy: 0.9567 - loss: 0.1289 - val_accuracy: 0.6754 - val_loss: 1.5293\n",
      "Epoch 24/100\n",
      "\u001b[1m625/625\u001b[0m \u001b[32m━━━━━━━━━━━━━━━━━━━━\u001b[0m\u001b[37m\u001b[0m \u001b[1m24s\u001b[0m 38ms/step - accuracy: 0.9617 - loss: 0.1159 - val_accuracy: 0.6849 - val_loss: 1.5372\n",
      "Epoch 25/100\n",
      "\u001b[1m625/625\u001b[0m \u001b[32m━━━━━━━━━━━━━━━━━━━━\u001b[0m\u001b[37m\u001b[0m \u001b[1m24s\u001b[0m 38ms/step - accuracy: 0.9686 - loss: 0.0959 - val_accuracy: 0.6867 - val_loss: 1.6002\n",
      "Epoch 26/100\n",
      "\u001b[1m625/625\u001b[0m \u001b[32m━━━━━━━━━━━━━━━━━━━━\u001b[0m\u001b[37m\u001b[0m \u001b[1m24s\u001b[0m 38ms/step - accuracy: 0.9758 - loss: 0.0758 - val_accuracy: 0.6889 - val_loss: 1.6577\n",
      "Epoch 27/100\n",
      "\u001b[1m625/625\u001b[0m \u001b[32m━━━━━━━━━━━━━━━━━━━━\u001b[0m\u001b[37m\u001b[0m \u001b[1m23s\u001b[0m 37ms/step - accuracy: 0.9797 - loss: 0.0627 - val_accuracy: 0.6878 - val_loss: 1.8626\n",
      "Epoch 28/100\n",
      "\u001b[1m625/625\u001b[0m \u001b[32m━━━━━━━━━━━━━━━━━━━━\u001b[0m\u001b[37m\u001b[0m \u001b[1m23s\u001b[0m 37ms/step - accuracy: 0.9767 - loss: 0.0705 - val_accuracy: 0.6905 - val_loss: 1.7406\n",
      "Epoch 29/100\n",
      "\u001b[1m625/625\u001b[0m \u001b[32m━━━━━━━━━━━━━━━━━━━━\u001b[0m\u001b[37m\u001b[0m \u001b[1m40s\u001b[0m 36ms/step - accuracy: 0.9767 - loss: 0.0675 - val_accuracy: 0.6847 - val_loss: 1.7987\n",
      "Epoch 30/100\n",
      "\u001b[1m625/625\u001b[0m \u001b[32m━━━━━━━━━━━━━━━━━━━━\u001b[0m\u001b[37m\u001b[0m \u001b[1m24s\u001b[0m 38ms/step - accuracy: 0.9830 - loss: 0.0522 - val_accuracy: 0.6915 - val_loss: 1.9100\n",
      "Epoch 31/100\n",
      "\u001b[1m625/625\u001b[0m \u001b[32m━━━━━━━━━━━━━━━━━━━━\u001b[0m\u001b[37m\u001b[0m \u001b[1m24s\u001b[0m 38ms/step - accuracy: 0.9814 - loss: 0.0577 - val_accuracy: 0.6875 - val_loss: 1.9320\n",
      "Epoch 32/100\n",
      "\u001b[1m625/625\u001b[0m \u001b[32m━━━━━━━━━━━━━━━━━━━━\u001b[0m\u001b[37m\u001b[0m \u001b[1m24s\u001b[0m 38ms/step - accuracy: 0.9819 - loss: 0.0535 - val_accuracy: 0.6943 - val_loss: 2.0676\n",
      "Epoch 33/100\n",
      "\u001b[1m625/625\u001b[0m \u001b[32m━━━━━━━━━━━━━━━━━━━━\u001b[0m\u001b[37m\u001b[0m \u001b[1m24s\u001b[0m 39ms/step - accuracy: 0.9917 - loss: 0.0275 - val_accuracy: 0.6948 - val_loss: 2.0574\n",
      "Epoch 34/100\n",
      "\u001b[1m625/625\u001b[0m \u001b[32m━━━━━━━━━━━━━━━━━━━━\u001b[0m\u001b[37m\u001b[0m \u001b[1m24s\u001b[0m 39ms/step - accuracy: 0.9952 - loss: 0.0185 - val_accuracy: 0.7038 - val_loss: 2.1811\n",
      "Epoch 35/100\n",
      "\u001b[1m625/625\u001b[0m \u001b[32m━━━━━━━━━━━━━━━━━━━━\u001b[0m\u001b[37m\u001b[0m \u001b[1m24s\u001b[0m 38ms/step - accuracy: 0.9998 - loss: 0.0034 - val_accuracy: 0.7119 - val_loss: 2.2326\n",
      "Epoch 36/100\n",
      "\u001b[1m625/625\u001b[0m \u001b[32m━━━━━━━━━━━━━━━━━━━━\u001b[0m\u001b[37m\u001b[0m \u001b[1m24s\u001b[0m 38ms/step - accuracy: 1.0000 - loss: 9.0554e-04 - val_accuracy: 0.7117 - val_loss: 2.2926\n",
      "Epoch 37/100\n",
      "\u001b[1m625/625\u001b[0m \u001b[32m━━━━━━━━━━━━━━━━━━━━\u001b[0m\u001b[37m\u001b[0m \u001b[1m23s\u001b[0m 37ms/step - accuracy: 1.0000 - loss: 5.9282e-04 - val_accuracy: 0.7135 - val_loss: 2.3439\n",
      "Epoch 38/100\n",
      "\u001b[1m625/625\u001b[0m \u001b[32m━━━━━━━━━━━━━━━━━━━━\u001b[0m\u001b[37m\u001b[0m \u001b[1m24s\u001b[0m 38ms/step - accuracy: 1.0000 - loss: 4.8573e-04 - val_accuracy: 0.7132 - val_loss: 2.3773\n",
      "Epoch 39/100\n",
      "\u001b[1m625/625\u001b[0m \u001b[32m━━━━━━━━━━━━━━━━━━━━\u001b[0m\u001b[37m\u001b[0m \u001b[1m24s\u001b[0m 39ms/step - accuracy: 1.0000 - loss: 4.1279e-04 - val_accuracy: 0.7126 - val_loss: 2.4119\n",
      "Epoch 40/100\n",
      "\u001b[1m625/625\u001b[0m \u001b[32m━━━━━━━━━━━━━━━━━━━━\u001b[0m\u001b[37m\u001b[0m \u001b[1m24s\u001b[0m 38ms/step - accuracy: 1.0000 - loss: 3.6182e-04 - val_accuracy: 0.7124 - val_loss: 2.4391\n",
      "Epoch 41/100\n",
      "\u001b[1m625/625\u001b[0m \u001b[32m━━━━━━━━━━━━━━━━━━━━\u001b[0m\u001b[37m\u001b[0m \u001b[1m24s\u001b[0m 38ms/step - accuracy: 1.0000 - loss: 3.3261e-04 - val_accuracy: 0.7119 - val_loss: 2.4662\n",
      "Epoch 42/100\n",
      "\u001b[1m625/625\u001b[0m \u001b[32m━━━━━━━━━━━━━━━━━━━━\u001b[0m\u001b[37m\u001b[0m \u001b[1m24s\u001b[0m 38ms/step - accuracy: 1.0000 - loss: 2.9539e-04 - val_accuracy: 0.7119 - val_loss: 2.4840\n",
      "Epoch 43/100\n",
      "\u001b[1m625/625\u001b[0m \u001b[32m━━━━━━━━━━━━━━━━━━━━\u001b[0m\u001b[37m\u001b[0m \u001b[1m23s\u001b[0m 37ms/step - accuracy: 1.0000 - loss: 2.8240e-04 - val_accuracy: 0.7132 - val_loss: 2.5042\n",
      "Epoch 44/100\n",
      "\u001b[1m625/625\u001b[0m \u001b[32m━━━━━━━━━━━━━━━━━━━━\u001b[0m\u001b[37m\u001b[0m \u001b[1m23s\u001b[0m 37ms/step - accuracy: 1.0000 - loss: 2.6705e-04 - val_accuracy: 0.7129 - val_loss: 2.5231\n",
      "Epoch 45/100\n",
      "\u001b[1m625/625\u001b[0m \u001b[32m━━━━━━━━━━━━━━━━━━━━\u001b[0m\u001b[37m\u001b[0m \u001b[1m23s\u001b[0m 37ms/step - accuracy: 1.0000 - loss: 2.4479e-04 - val_accuracy: 0.7125 - val_loss: 2.5375\n",
      "Epoch 46/100\n",
      "\u001b[1m625/625\u001b[0m \u001b[32m━━━━━━━━━━━━━━━━━━━━\u001b[0m\u001b[37m\u001b[0m \u001b[1m24s\u001b[0m 38ms/step - accuracy: 1.0000 - loss: 2.3636e-04 - val_accuracy: 0.7125 - val_loss: 2.5555\n",
      "Epoch 47/100\n",
      "\u001b[1m625/625\u001b[0m \u001b[32m━━━━━━━━━━━━━━━━━━━━\u001b[0m\u001b[37m\u001b[0m \u001b[1m24s\u001b[0m 39ms/step - accuracy: 1.0000 - loss: 2.2463e-04 - val_accuracy: 0.7127 - val_loss: 2.5714\n",
      "Epoch 48/100\n",
      "\u001b[1m625/625\u001b[0m \u001b[32m━━━━━━━━━━━━━━━━━━━━\u001b[0m\u001b[37m\u001b[0m \u001b[1m25s\u001b[0m 39ms/step - accuracy: 1.0000 - loss: 2.1032e-04 - val_accuracy: 0.7130 - val_loss: 2.5842\n",
      "Epoch 49/100\n",
      "\u001b[1m625/625\u001b[0m \u001b[32m━━━━━━━━━━━━━━━━━━━━\u001b[0m\u001b[37m\u001b[0m \u001b[1m24s\u001b[0m 38ms/step - accuracy: 1.0000 - loss: 2.0111e-04 - val_accuracy: 0.7130 - val_loss: 2.5967\n",
      "Epoch 50/100\n",
      "\u001b[1m625/625\u001b[0m \u001b[32m━━━━━━━━━━━━━━━━━━━━\u001b[0m\u001b[37m\u001b[0m \u001b[1m24s\u001b[0m 38ms/step - accuracy: 1.0000 - loss: 1.8597e-04 - val_accuracy: 0.7130 - val_loss: 2.6091\n",
      "Epoch 51/100\n",
      "\u001b[1m625/625\u001b[0m \u001b[32m━━━━━━━━━━━━━━━━━━━━\u001b[0m\u001b[37m\u001b[0m \u001b[1m24s\u001b[0m 38ms/step - accuracy: 1.0000 - loss: 1.7696e-04 - val_accuracy: 0.7132 - val_loss: 2.6195\n",
      "Epoch 52/100\n",
      "\u001b[1m625/625\u001b[0m \u001b[32m━━━━━━━━━━━━━━━━━━━━\u001b[0m\u001b[37m\u001b[0m \u001b[1m24s\u001b[0m 38ms/step - accuracy: 1.0000 - loss: 1.7901e-04 - val_accuracy: 0.7125 - val_loss: 2.6323\n",
      "Epoch 53/100\n",
      "\u001b[1m625/625\u001b[0m \u001b[32m━━━━━━━━━━━━━━━━━━━━\u001b[0m\u001b[37m\u001b[0m \u001b[1m24s\u001b[0m 38ms/step - accuracy: 1.0000 - loss: 1.6464e-04 - val_accuracy: 0.7122 - val_loss: 2.6422\n",
      "Epoch 54/100\n",
      "\u001b[1m625/625\u001b[0m \u001b[32m━━━━━━━━━━━━━━━━━━━━\u001b[0m\u001b[37m\u001b[0m \u001b[1m24s\u001b[0m 38ms/step - accuracy: 1.0000 - loss: 1.6281e-04 - val_accuracy: 0.7125 - val_loss: 2.6531\n",
      "Epoch 55/100\n",
      "\u001b[1m625/625\u001b[0m \u001b[32m━━━━━━━━━━━━━━━━━━━━\u001b[0m\u001b[37m\u001b[0m \u001b[1m25s\u001b[0m 39ms/step - accuracy: 1.0000 - loss: 1.5471e-04 - val_accuracy: 0.7121 - val_loss: 2.6622\n",
      "Epoch 56/100\n",
      "\u001b[1m625/625\u001b[0m \u001b[32m━━━━━━━━━━━━━━━━━━━━\u001b[0m\u001b[37m\u001b[0m \u001b[1m25s\u001b[0m 39ms/step - accuracy: 1.0000 - loss: 1.4237e-04 - val_accuracy: 0.7124 - val_loss: 2.6722\n",
      "Epoch 57/100\n",
      "\u001b[1m625/625\u001b[0m \u001b[32m━━━━━━━━━━━━━━━━━━━━\u001b[0m\u001b[37m\u001b[0m \u001b[1m24s\u001b[0m 39ms/step - accuracy: 1.0000 - loss: 1.3930e-04 - val_accuracy: 0.7129 - val_loss: 2.6807\n",
      "Epoch 58/100\n",
      "\u001b[1m625/625\u001b[0m \u001b[32m━━━━━━━━━━━━━━━━━━━━\u001b[0m\u001b[37m\u001b[0m \u001b[1m24s\u001b[0m 38ms/step - accuracy: 1.0000 - loss: 1.3867e-04 - val_accuracy: 0.7121 - val_loss: 2.6916\n",
      "Epoch 59/100\n",
      "\u001b[1m625/625\u001b[0m \u001b[32m━━━━━━━━━━━━━━━━━━━━\u001b[0m\u001b[37m\u001b[0m \u001b[1m24s\u001b[0m 38ms/step - accuracy: 1.0000 - loss: 1.3309e-04 - val_accuracy: 0.7124 - val_loss: 2.7002\n",
      "Epoch 60/100\n",
      "\u001b[1m625/625\u001b[0m \u001b[32m━━━━━━━━━━━━━━━━━━━━\u001b[0m\u001b[37m\u001b[0m \u001b[1m23s\u001b[0m 37ms/step - accuracy: 1.0000 - loss: 1.2758e-04 - val_accuracy: 0.7125 - val_loss: 2.7068\n",
      "Epoch 61/100\n",
      "\u001b[1m625/625\u001b[0m \u001b[32m━━━━━━━━━━━━━━━━━━━━\u001b[0m\u001b[37m\u001b[0m \u001b[1m25s\u001b[0m 39ms/step - accuracy: 1.0000 - loss: 1.2592e-04 - val_accuracy: 0.7126 - val_loss: 2.7145\n",
      "Epoch 62/100\n",
      "\u001b[1m625/625\u001b[0m \u001b[32m━━━━━━━━━━━━━━━━━━━━\u001b[0m\u001b[37m\u001b[0m \u001b[1m25s\u001b[0m 39ms/step - accuracy: 1.0000 - loss: 1.2087e-04 - val_accuracy: 0.7133 - val_loss: 2.7221\n",
      "Epoch 63/100\n",
      "\u001b[1m625/625\u001b[0m \u001b[32m━━━━━━━━━━━━━━━━━━━━\u001b[0m\u001b[37m\u001b[0m \u001b[1m24s\u001b[0m 38ms/step - accuracy: 1.0000 - loss: 1.1997e-04 - val_accuracy: 0.7126 - val_loss: 2.7303\n",
      "Epoch 64/100\n",
      "\u001b[1m625/625\u001b[0m \u001b[32m━━━━━━━━━━━━━━━━━━━━\u001b[0m\u001b[37m\u001b[0m \u001b[1m23s\u001b[0m 38ms/step - accuracy: 1.0000 - loss: 1.1470e-04 - val_accuracy: 0.7123 - val_loss: 2.7379\n",
      "Epoch 65/100\n",
      "\u001b[1m625/625\u001b[0m \u001b[32m━━━━━━━━━━━━━━━━━━━━\u001b[0m\u001b[37m\u001b[0m \u001b[1m24s\u001b[0m 38ms/step - accuracy: 1.0000 - loss: 1.1198e-04 - val_accuracy: 0.7125 - val_loss: 2.7451\n",
      "Epoch 66/100\n",
      "\u001b[1m625/625\u001b[0m \u001b[32m━━━━━━━━━━━━━━━━━━━━\u001b[0m\u001b[37m\u001b[0m \u001b[1m24s\u001b[0m 38ms/step - accuracy: 1.0000 - loss: 1.0909e-04 - val_accuracy: 0.7126 - val_loss: 2.7532\n",
      "Epoch 67/100\n",
      "\u001b[1m625/625\u001b[0m \u001b[32m━━━━━━━━━━━━━━━━━━━━\u001b[0m\u001b[37m\u001b[0m \u001b[1m24s\u001b[0m 38ms/step - accuracy: 1.0000 - loss: 1.0476e-04 - val_accuracy: 0.7125 - val_loss: 2.7594\n",
      "Epoch 68/100\n",
      "\u001b[1m625/625\u001b[0m \u001b[32m━━━━━━━━━━━━━━━━━━━━\u001b[0m\u001b[37m\u001b[0m \u001b[1m23s\u001b[0m 36ms/step - accuracy: 1.0000 - loss: 1.0395e-04 - val_accuracy: 0.7124 - val_loss: 2.7673\n",
      "Epoch 69/100\n",
      "\u001b[1m326/625\u001b[0m \u001b[32m━━━━━━━━━━\u001b[0m\u001b[37m━━━━━━━━━━\u001b[0m \u001b[1m10s\u001b[0m 35ms/step - accuracy: 1.0000 - loss: 9.8708e-05"
     ]
    }
   ],
   "source": [
    "model = Sequential()\n",
    "model.add(Conv2D(32, (3, 3), activation='relu', kernel_initializer='he_uniform', padding='same', input_shape=(32,32,3))) #convolutional layer with 32 kernels, kernel size 3x3, sigmoid activation\n",
    "model.add(Conv2D(32, (3, 3), activation='relu', kernel_initializer='he_uniform', padding='same',))\n",
    "model.add(MaxPooling2D(pool_size=(2,2)))\n",
    "\n",
    "model.add(Conv2D(64, (3, 3), activation='relu', kernel_initializer='he_uniform', padding='same'))\n",
    "model.add(Conv2D(64, (3, 3), activation='relu', kernel_initializer='he_uniform', padding='same'))\n",
    "model.add(MaxPooling2D((2, 2)))\n",
    "\n",
    "model.add(Conv2D(128, (3, 3), activation='relu', kernel_initializer='he_uniform', padding='same'))\n",
    "model.add(Conv2D(128, (3, 3), activation='relu', kernel_initializer='he_uniform', padding='same'))\n",
    "model.add(MaxPooling2D((2, 2)))\n",
    "#ReLU is used for faster convergence and to avoid vanishing gradient\n",
    "#He initializer: ensures probability distribution of starting weight values are not too large or too small - between (-sqrt(6/n), sqrt(6/n))\n",
    "#padding = same to ensure the size of input and output layers are unified\n",
    "\n",
    "model.add(Flatten()) #flatten from tensor into vector\n",
    "model.add(Dense(128, activation='relu')) #fully connected layer with 128 nodes\n",
    "model.add(Dense(10, activation='softmax')) #output layer with 10 nodes, softmax function for probability distribution output\n",
    "model.compile(loss='categorical_crossentropy', optimizer = SGD(learning_rate=0.001, momentum=0.9) ,metrics=['accuracy']) #categorical cross entropy loss; mini-batch gradient descent for optimizing loss function\n",
    "\n",
    "H = model.fit(X_train, Y_train, validation_data=(X_val, Y_val),batch_size=64, epochs=100, verbose=1)"
   ]
  },
  {
   "cell_type": "code",
   "execution_count": 24,
   "metadata": {
    "id": "pIgHagMTbImv"
   },
   "outputs": [
    {
     "data": {
      "image/png": "[encoded data removed]",
      "text/plain": [
       "<Figure size 640x480 with 2 Axes>"
      ]
     },
     "metadata": {},
     "output_type": "display_data"
    }
   ],
   "source": [
    "#plot loss\n",
    "plt.subplot(211)\n",
    "plt.title('Cross Entropy Loss')\n",
    "plt.plot(H.history['loss'], color='blue', label='train')\n",
    "plt.plot(H.history['val_loss'], color='orange', label='test')\n",
    "\n",
    "\n",
    "# plot accuracy\n",
    "plt.subplot(212)\n",
    "plt.title('Classification Accuracy')\n",
    "plt.plot(H.history['accuracy'], color='blue', label='train')\n",
    "plt.plot(H.history['val_accuracy'], color='orange', label='test')\n",
    "plt.subplots_adjust(hspace=0.5)\n",
    "\n",
    "# save plot to file\n",
    "filename = sys.argv[0].split('/')[-1]\n",
    "plt.savefig(filename + '_plot.png')\n",
    "plt.show()"
   ]
  },
  {
   "cell_type": "code",
   "execution_count": null,
   "metadata": {
    "id": "lJchhPU0baSR"
   },
   "outputs": [],
   "source": [
    "_, acc = model.evaluate(X_test, Y_test, verbose=1)\n",
    "print('> %.3f' % (acc * 100.0))"
   ]
  },
  {
   "cell_type": "code",
   "execution_count": null,
   "metadata": {
    "id": "2zBjKr75gCRM"
   },
   "outputs": [],
   "source": [
    "#predict image\n",
    "sample_no = random.randrange(1, 10000)\n",
    "plt.imshow(X_test[sample_no].reshape(28,28), cmap='gray')\n",
    "y_predict = model.predict(X_test[sample_no].reshape(1,32,32,3))\n",
    "print('Predicted value:', np.argmax(y_predict))"
   ]
  }
 ],
 "metadata": {
  "accelerator": "GPU",
  "colab": {
   "authorship_tag": "ABX9TyOlhaLGOgd75hjpoCM5dTgI",
   "gpuType": "T4",
   "provenance": []
  },
  "kernelspec": {
   "display_name": "Python 3",
   "language": "python",
   "name": "python3"
  },
  "language_info": {
   "codemirror_mode": {
    "name": "ipython",
    "version": 3
   },
   "file_extension": ".py",
   "mimetype": "text/x-python",
   "name": "python",
   "nbconvert_exporter": "python",
   "pygments_lexer": "ipython3",
   "version": "3.11.9"
  }
 },
 "nbformat": 4,
 "nbformat_minor": 1
}
