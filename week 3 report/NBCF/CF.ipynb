{
 "cells": [
  {
   "cell_type": "code",
   "execution_count": 9,
   "metadata": {},
   "outputs": [],
   "source": [
    "#type: ignore\n",
    "\n",
    "import pandas as pd\n",
    "import numpy as np\n",
    "from sklearn.metrics.pairwise import cosine_similarity\n",
    "from sklearn.model_selection import train_test_split\n",
    "from scipy import sparse\n",
    "from sklearn.decomposition import TruncatedSVD"
   ]
  },
  {
   "cell_type": "code",
   "execution_count": 10,
   "metadata": {},
   "outputs": [],
   "source": [
    "class uuCF(object):\n",
    "    def __init__(self, Y_data, k, sim_func = cosine_similarity):\n",
    "        self.Y_data = Y_data\n",
    "        self.k = k #number of neighborhood\n",
    "        self.sim_func = sim_func\n",
    "        self.Ybar = None #normalize data\n",
    "        self.n_users = int(np.max(self.Y_data[:, 0])) + 1 #number of users\n",
    "        self.n_items = int(np.max(self.Y_data[:, 1])) + 1 #number of items\n",
    "\n",
    "    def fit(self):\n",
    "        users = self.Y_data[:, 0] \n",
    "        self.Ybar = self.Y_data.copy()\n",
    "        self.mu = np.zeros((self.n_users,))\n",
    "        for n in range(self.n_users):\n",
    "            #row indices of ratings by user n\n",
    "            ids = np.where(users == n)[0].astype(np.int32)\n",
    "\n",
    "            #indices of all items rated by user n\n",
    "            item_ids = self.Y_data[ids, 1]\n",
    "\n",
    "            # ratings made by user n\n",
    "            ratings = self.Y_data[ids, 2]\n",
    "\n",
    "            # avoid zero division\n",
    "            self.mu[n] = np.mean(ratings) if ids.size > 0 else 0\n",
    "            self.Ybar[ids, 2] = ratings - self.mu[n]\n",
    "\n",
    "        #form the rating matrix as a sparse matric\n",
    "        self.Ybar = sparse.coo_matrix((self.Ybar[:, 2], (self.Ybar[:, 1], self.Ybar[:, 0])), (self.n_items, self.n_users)).tocsr()\n",
    "        self.S = self.sim_func(self.Ybar.T, self.Ybar.T)\n",
    "\n",
    "    def pred(self, u, i):\n",
    "        \"\"\" predict the rating of user u for item i\"\"\"\n",
    "        # find item i\n",
    "        ids = np.where(self.Y_data[:, 1] == i)[0].astype(np.int32)\n",
    "\n",
    "        # all users who rated i\n",
    "        users_rated_i = (self.Y_data[ids, 0]).astype(np.int32)\n",
    "\n",
    "        # similarity of u and users who rated i\n",
    "        sim = self.S[u, users_rated_i]\n",
    "\n",
    "        # most k similar users\n",
    "        nns = np.argsort(sim)[-self.k:]\n",
    "\n",
    "        nearest_s = sim[nns] # and the corresponding similarities\n",
    "\n",
    "        # the corresponding ratings\n",
    "        r = self.Ybar[i, users_rated_i[nns]]\n",
    "\n",
    "        eps = 1e-8 # a small number to avoid zero division\n",
    "        \n",
    "        return (r*nearest_s).sum()/(np.abs(nearest_s).sum() + eps) + self.mu[u]"
   ]
  },
  {
   "cell_type": "code",
   "execution_count": 11,
   "metadata": {},
   "outputs": [
    {
     "name": "stdout",
     "output_type": "stream",
     "text": [
      "User-user CF, RMSE = 0.9766140289287265\n"
     ]
    }
   ],
   "source": [
    "r_cols = ['user_id', 'movie_id', 'rating', 'unix_timestamp']\n",
    "ratings_base = pd.read_csv('ml-100k/ua.base', sep='\\t', names=r_cols)\n",
    "ratings_test = pd.read_csv('ml-100k/ua.test', sep='\\t', names=r_cols)\n",
    "rate_train = ratings_base.values\n",
    "rate_test = ratings_test.values\n",
    "\n",
    "# indices start from 0\n",
    "rate_train[:, :2] -= 1\n",
    "rate_test[:, :2] -= 1\n",
    "rs = uuCF(rate_train, k = 40)\n",
    "rs.fit()\n",
    "n_tests = rate_test.shape[0]\n",
    "SE = 0 # squared error\n",
    "for n in range(n_tests):\n",
    "    pred = rs.pred(rate_test[n, 0], rate_test[n, 1])\n",
    "    SE += (pred - rate_test[n, 2])**2\n",
    "RMSE = np.sqrt(SE/n_tests)\n",
    "print('User-user CF, RMSE =', RMSE)"
   ]
  },
  {
   "cell_type": "code",
   "execution_count": 12,
   "metadata": {},
   "outputs": [
    {
     "name": "stdout",
     "output_type": "stream",
     "text": [
      "Item-item CF, RMSE = 0.9688460838682366\n"
     ]
    }
   ],
   "source": [
    "rate_train = rate_train[:, [1, 0, 2]]\n",
    "rate_test = rate_test[:, [1, 0, 2]]\n",
    "\n",
    "rs = uuCF(rate_train, k = 40)\n",
    "rs.fit()\n",
    "n_tests = rate_test.shape[0]\n",
    "SE = 0 # squared error\n",
    "for n in range(n_tests):\n",
    "    pred = rs.pred(rate_test[n, 0], rate_test[n, 1])\n",
    "    SE += (pred - rate_test[n, 2])**2\n",
    "RMSE = np.sqrt(SE/n_tests)\n",
    "print('Item-item CF, RMSE =', RMSE)"
   ]
  },
  {
   "cell_type": "code",
   "execution_count": 13,
   "metadata": {},
   "outputs": [
    {
     "name": "stdout",
     "output_type": "stream",
     "text": [
      "User-user CF, RMSE = 0.9636118554750631\n"
     ]
    }
   ],
   "source": [
    "cols = ['user_id', 'song_id', 'rating']\n",
    "\n",
    "ratings = pd.read_csv('songsDataset.csv', nrows=100)\n",
    "train_data, test_data = train_test_split(ratings, test_size = 0.2, random_state=120)\n",
    "\n",
    "rate_train = train_data.values\n",
    "rate_test = test_data.values\n",
    "\n",
    "rs = uuCF(rate_train, k = 40)\n",
    "rs.fit()\n",
    "n_tests = rate_test.shape[0]\n",
    "SE = 0 # squared error\n",
    "for n in range(n_tests):\n",
    "    pred = rs.pred(rate_test[n, 0], rate_test[n, 1])\n",
    "    SE += (pred - rate_test[n, 2])**2\n",
    "RMSE = np.sqrt(SE/n_tests)\n",
    "print('User-user CF, RMSE =', RMSE)\n"
   ]
  }
 ],
 "metadata": {
  "kernelspec": {
   "display_name": "Python 3",
   "language": "python",
   "name": "python3"
  },
  "language_info": {
   "codemirror_mode": {
    "name": "ipython",
    "version": 3
   },
   "file_extension": ".py",
   "mimetype": "text/x-python",
   "name": "python",
   "nbconvert_exporter": "python",
   "pygments_lexer": "ipython3",
   "version": "3.11.9"
  }
 },
 "nbformat": 4,
 "nbformat_minor": 2
}
